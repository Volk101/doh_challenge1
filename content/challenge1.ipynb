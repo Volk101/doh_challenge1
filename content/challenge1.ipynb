{
  "metadata": {
    "language_info": {
      "codemirror_mode": "sql",
      "file_extension": "",
      "mimetype": "",
      "name": "sql",
      "version": "3.32.3"
    },
    "kernelspec": {
      "name": "SQLite",
      "display_name": "SQLite",
      "language": "sql"
    }
  },
  "nbformat_minor": 4,
  "nbformat": 4,
  "cells": [
    {
      "cell_type": "code",
      "source": "%CREATE challenge1_db.db",
      "metadata": {
        "trusted": true
      },
      "execution_count": 1,
      "outputs": []
    },
    {
      "cell_type": "code",
      "source": "CREATE TABLE OCCUPATIONS (Name STRING, Occupation STRING)",
      "metadata": {
        "trusted": true
      },
      "execution_count": 2,
      "outputs": []
    },
    {
      "cell_type": "code",
      "source": "INSERT INTO OCCUPATIONS (Name, Occupation) VALUES (\"Samantha\", \"Doctor\"),(\"Julia\",\"Actor\"),(\"Maria\",\"Actor\"),(\"Meera\",\"Singer\"),(\"Ashely\",\"Professor\"),\n(\"Ketty\",\"Professor\"),(\"Christeen\",\"Professor\"),(\"Jane\",\"Actor\"),(\"Jenny\",\"Doctor\"),(\"Priya\",\"Singer\")",
      "metadata": {
        "trusted": true
      },
      "execution_count": 3,
      "outputs": []
    },
    {
      "cell_type": "code",
      "source": "SELECT COUNT(*) as rowcount FROM OCCUPATIONS",
      "metadata": {
        "trusted": true
      },
      "execution_count": 4,
      "outputs": [
        {
          "execution_count": 4,
          "output_type": "execute_result",
          "data": {
            "text/html": "<table>\n<tr>\n<th>rowcount</th>\n</tr>\n<tr>\n<td>10</td>\n</tr>\n</table>",
            "text/plain": "+----------+\n| rowcount |\n+----------+\n| 10       |\n+----------+"
          },
          "metadata": {}
        }
      ]
    },
    {
      "cell_type": "code",
      "source": "SELECT Name || '(' || SUBSTR(Occupation,1,1) || ')' AS First_Query FROM OCCUPATIONS ORDER BY Name",
      "metadata": {
        "trusted": true
      },
      "execution_count": 5,
      "outputs": [
        {
          "execution_count": 5,
          "output_type": "execute_result",
          "data": {
            "text/html": "<table>\n<tr>\n<th>First_Query</th>\n</tr>\n<tr>\n<td>Ashely(P)</td>\n</tr>\n<tr>\n<td>Christeen(P)</td>\n</tr>\n<tr>\n<td>Jane(A)</td>\n</tr>\n<tr>\n<td>Jenny(D)</td>\n</tr>\n<tr>\n<td>Julia(A)</td>\n</tr>\n<tr>\n<td>Ketty(P)</td>\n</tr>\n<tr>\n<td>Maria(A)</td>\n</tr>\n<tr>\n<td>Meera(S)</td>\n</tr>\n<tr>\n<td>Priya(S)</td>\n</tr>\n<tr>\n<td>Samantha(D)</td>\n</tr>\n</table>",
            "text/plain": "+--------------+\n| First_Query  |\n+--------------+\n| Ashely(P)    |\n+--------------+\n| Christeen(P) |\n+--------------+\n| Jane(A)      |\n+--------------+\n| Jenny(D)     |\n+--------------+\n| Julia(A)     |\n+--------------+\n| Ketty(P)     |\n+--------------+\n| Maria(A)     |\n+--------------+\n| Meera(S)     |\n+--------------+\n| Priya(S)     |\n+--------------+\n| Samantha(D)  |\n+--------------+"
          },
          "metadata": {}
        }
      ]
    },
    {
      "cell_type": "code",
      "source": "SELECT 'There are a total of '|| count || ' ' || occupation || 's.' AS Second_Query FROM ( SELECT COUNT(*) as count,Occupation FROM OCCUPATIONS GROUP BY Occupation ORDER BY count,Occupation)",
      "metadata": {
        "trusted": true
      },
      "execution_count": 6,
      "outputs": [
        {
          "execution_count": 6,
          "output_type": "execute_result",
          "data": {
            "text/html": "<table>\n<tr>\n<th>Second_Query</th>\n</tr>\n<tr>\n<td>There are a total of 2 Doctors.</td>\n</tr>\n<tr>\n<td>There are a total of 2 Singers.</td>\n</tr>\n<tr>\n<td>There are a total of 3 Actors.</td>\n</tr>\n<tr>\n<td>There are a total of 3 Professors.</td>\n</tr>\n</table>",
            "text/plain": "+------------------------------------+\n| Second_Query                       |\n+------------------------------------+\n| There are a total of 2 Doctors.    |\n+------------------------------------+\n| There are a total of 2 Singers.    |\n+------------------------------------+\n| There are a total of 3 Actors.     |\n+------------------------------------+\n| There are a total of 3 Professors. |\n+------------------------------------+"
          },
          "metadata": {}
        }
      ]
    }
  ]
}
