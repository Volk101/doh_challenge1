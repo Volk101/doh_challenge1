{
  "metadata": {
    "language_info": {
      "codemirror_mode": {
        "name": "python",
        "version": 3
      },
      "file_extension": ".py",
      "mimetype": "text/x-python",
      "name": "python",
      "nbconvert_exporter": "python",
      "pygments_lexer": "ipython3",
      "version": "3.8"
    },
    "kernelspec": {
      "name": "python",
      "display_name": "Python (Pyodide)",
      "language": "python"
    }
  },
  "nbformat_minor": 4,
  "nbformat": 4,
  "cells": [
    {
      "cell_type": "code",
      "source": "# Generate Fibonacci sequence\nclass Fibonacci:\n    def __init__(self):\n        self.sequence = [0,1]\n        \n    def elements(self, n):\n        if not (isinstance(n, int) and n >= 0):\n            raise ValueError(f'Positive integer required - got \"{n}\"')\n            \n        if n < len(self.sequence):\n            return self.sequence[n]\n        else:\n            number = self.elements(n - 1) + self.elements(n - 2)\n            self.sequence.append(number)\n            \n        return self.sequence[n]\n\n    def max_value(self, n):\n        if not (isinstance(n, int) and n >= 0):\n            raise ValueError(f'Positive integer required - got \"{n}\"')\n        \n        while max(self.sequence) < n:\n            number = self.elements(len(self.sequence)-1) + self.elements(len(self.sequence) - 2)\n            self.sequence.append(number)\n\n        self.sequence.pop()\n        return self.sequence",
      "metadata": {
        "trusted": true
      },
      "execution_count": 1,
      "outputs": []
    },
    {
      "cell_type": "code",
      "source": "# Test case - 10 fibonacci elements (inc 0) should sum to 88\ntest_Fib = Fibonacci()\nprint( sum([test_Fib.elements(n) for n in range(10)]) )",
      "metadata": {
        "trusted": true
      },
      "execution_count": 2,
      "outputs": [
        {
          "name": "stdout",
          "text": "88\n",
          "output_type": "stream"
        }
      ]
    },
    {
      "cell_type": "code",
      "source": "# Generate Fibonacci list up to 4,000,000\nnew_Fib = Fibonacci()\nli = new_Fib.max_value(4000000)",
      "metadata": {
        "trusted": true
      },
      "execution_count": 3,
      "outputs": []
    },
    {
      "cell_type": "code",
      "source": "# Filter list to include only even numbers\nfilter_li = filter(lambda x : x % 2 == 0, li)\nli = (list(filter_li))\nprint(li)",
      "metadata": {
        "tags": [],
        "trusted": true
      },
      "execution_count": 11,
      "outputs": [
        {
          "name": "stdout",
          "text": "[0, 2, 8, 34, 144, 610, 2584, 10946, 46368, 196418, 832040, 3524578]\n",
          "output_type": "stream"
        }
      ]
    },
    {
      "cell_type": "code",
      "source": "# Output sum of filtered list\nprint(sum(li))",
      "metadata": {
        "trusted": true
      },
      "execution_count": 12,
      "outputs": [
        {
          "name": "stdout",
          "text": "4613732\n",
          "output_type": "stream"
        }
      ]
    },
    {
      "cell_type": "code",
      "source": "# Final answer is 4,613,732 (???)",
      "metadata": {},
      "execution_count": null,
      "outputs": []
    }
  ]
}